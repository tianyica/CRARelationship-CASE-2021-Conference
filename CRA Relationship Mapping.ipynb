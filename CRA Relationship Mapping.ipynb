{
 "cells": [
  {
   "cell_type": "code",
   "execution_count": 87,
   "metadata": {},
   "outputs": [],
   "source": [
    "import pandas as pd\n",
    "import numpy as np\n",
    "import scipy.stats as stats\n",
    "from datetime import datetime\n",
    "from datetime import date\n",
    "import csv"
   ]
  },
  {
   "cell_type": "code",
   "execution_count": 116,
   "metadata": {},
   "outputs": [],
   "source": [
    "test = pd.read_csv('./FY1419/TrusteeFY1419P10.csv')"
   ]
  },
  {
   "cell_type": "code",
   "execution_count": 117,
   "metadata": {},
   "outputs": [],
   "source": [
    "values={'Ceased Date':date.today()}"
   ]
  },
  {
   "cell_type": "code",
   "execution_count": 118,
   "metadata": {},
   "outputs": [],
   "source": [
    "test=test.rename(columns={\"ï»¿BN/Registration Number\": \"BN/Registration Number\"})"
   ]
  },
  {
   "cell_type": "code",
   "execution_count": 119,
   "metadata": {},
   "outputs": [
    {
     "name": "stdout",
     "output_type": "stream",
     "text": [
      "      BN/Registration Number  Last Name First Name   Appointed Date  \\\n",
      "0            880217419RR0001       Chin     Edward   5/28/2008 0:00   \n",
      "1            880217419RR0001    Feldman      Susan  10/17/2017 0:00   \n",
      "2            880217419RR0001     Barker     Lucile   2/28/2001 0:00   \n",
      "3            880217419RR0001     Lowell      Jenny   5/22/2012 0:00   \n",
      "4            880217419RR0001       Borg    Antonia   12/6/2016 0:00   \n",
      "...                      ...        ...        ...              ...   \n",
      "88587        890629983RR0001    Willson       Stan    1/1/2018 0:00   \n",
      "88588        890629983RR0001     Kenyon      Mairi    4/1/2018 0:00   \n",
      "88589        890629983RR0001   Lipnicki     Witold    4/1/2018 0:00   \n",
      "88590        890630593RR0001  Friedberg     Albert   6/30/2018 0:00   \n",
      "88591        890630593RR0001     Kadden     Jerome   6/30/2018 0:00   \n",
      "\n",
      "           Ceased Date          Full Name                            RecordID  \n",
      "0      10/17/2017 0:00       Chin, Edward       Chin, Edward, 880217419RR0001  \n",
      "1       12/7/2018 0:00     Feldman, Susan     Feldman, Susan, 880217419RR0001  \n",
      "2                  NaN     Barker, Lucile     Barker, Lucile, 880217419RR0001  \n",
      "3                  NaN      Lowell, Jenny      Lowell, Jenny, 880217419RR0001  \n",
      "4                  NaN      Borg, Antonia      Borg, Antonia, 880217419RR0001  \n",
      "...                ...                ...                                 ...  \n",
      "88587              NaN      Willson, Stan      Willson, Stan, 890629983RR0001  \n",
      "88588              NaN      Kenyon, Mairi      Kenyon, Mairi, 890629983RR0001  \n",
      "88589              NaN   Lipnicki, Witold   Lipnicki, Witold, 890629983RR0001  \n",
      "88590              NaN  Friedberg, Albert  Friedberg, Albert, 890630593RR0001  \n",
      "88591              NaN     Kadden, Jerome     Kadden, Jerome, 890630593RR0001  \n",
      "\n",
      "[88592 rows x 7 columns]\n"
     ]
    }
   ],
   "source": [
    "print(test)\n"
   ]
  },
  {
   "cell_type": "code",
   "execution_count": 120,
   "metadata": {},
   "outputs": [],
   "source": [
    "test['Appointed Date'] =  pd.to_datetime(test['Appointed Date'],format='%m/%d/%Y %H:%M')\n"
   ]
  },
  {
   "cell_type": "code",
   "execution_count": 121,
   "metadata": {},
   "outputs": [],
   "source": [
    "test['Ceased Date'] =  pd.to_datetime(test['Ceased Date'],format='%m/%d/%Y %H:%M')\n"
   ]
  },
  {
   "cell_type": "code",
   "execution_count": 122,
   "metadata": {},
   "outputs": [],
   "source": [
    "test = test.fillna(value=values)"
   ]
  },
  {
   "cell_type": "code",
   "execution_count": 123,
   "metadata": {},
   "outputs": [],
   "source": [
    "test['FullName']= test['First Name']+' '+test['Last Name']"
   ]
  },
  {
   "cell_type": "code",
   "execution_count": 124,
   "metadata": {},
   "outputs": [
    {
     "name": "stdout",
     "output_type": "stream",
     "text": [
      "0             Edward Chin\n",
      "1           Susan Feldman\n",
      "2           Lucile Barker\n",
      "3            Jenny Lowell\n",
      "4            Antonia Borg\n",
      "               ...       \n",
      "88587        Stan Willson\n",
      "88588        Mairi Kenyon\n",
      "88589     Witold Lipnicki\n",
      "88590    Albert Friedberg\n",
      "88591       Jerome Kadden\n",
      "Name: FullName, Length: 88592, dtype: object\n"
     ]
    }
   ],
   "source": [
    "print(test['FullName'])"
   ]
  },
  {
   "cell_type": "code",
   "execution_count": 125,
   "metadata": {},
   "outputs": [],
   "source": [
    "grouped_test=test.groupby('BN/Registration Number')"
   ]
  },
  {
   "cell_type": "code",
   "execution_count": 126,
   "metadata": {},
   "outputs": [],
   "source": [
    "resultdf= pd.DataFrame(columns = [\"FullName\",\"FullName\",\"BN/Registration Number\"])"
   ]
  },
  {
   "cell_type": "code",
   "execution_count": 127,
   "metadata": {},
   "outputs": [
    {
     "name": "stdout",
     "output_type": "stream",
     "text": [
      "Empty DataFrame\n",
      "Columns: [FullName, FullName, BN/Registration Number]\n",
      "Index: []\n"
     ]
    }
   ],
   "source": [
    "print(resultdf)"
   ]
  },
  {
   "cell_type": "code",
   "execution_count": 128,
   "metadata": {},
   "outputs": [
    {
     "data": {
      "text/plain": [
       "{'880217419RR0001': [0, 1, 2, 3, 4, 5], '880231956RR0001': [6, 7, 8, 9, 10, 11, 12, 13, 14, 15, 16], '880244983RR0001': [17, 18, 19, 20, 21, 22, 23], '880248216RR0001': [24, 25, 26, 27, 28, 29, 30, 31], '880249503RR0001': [32, 33, 34, 35, 36, 37], '880250618RR0001': [38, 39, 40, 41, 42, 43, 44, 45, 46, 47, 48, 49, 50, 51, 52, 53, 54, 55, 56], '880255229RR0001': [57, 58, 59, 60, 61, 62, 63, 64, 65, 66, 67, 68, 69, 70, 71, 72, 73, 74, 75], '880262514RR0001': [76, 77, 78, 79, 80, 81, 82, 83, 84], '880274873RR0001': [85, 86, 87, 88], '880285804RR0001': [89, 90, 91], '880296413RR0001': [92, 93, 94, 95, 96, 97, 98, 99, 100, 101, 102, 103, 104, 105, 106, 107, 108, 109], '880306618RR0001': [110, 111, 112, 113, 114, 115, 116, 117, 118, 119, 120, 121, 122, 123, 124], '880315437RR0001': [125, 126, 127, 128, 129, 130, 131, 132, 133, 134, 135, 136, 137, 138, 139], '880320411RR0001': [140, 141, 142, 143, 144, 145, 146, 147, 148, 149, 150, 151, 152, 153, 154], '880326095RR0001': [155, 156, 157, 158, 159, 160, 161, 162, 163, 164, 165, 166, 167, 168, 169, 170, 171, 172, 173], '880329982RR0001': [174, 175, 176, 177, 178, 179, 180, 181, 182, 183, 184], '880342761RR0001': [185, 186, 187, 188, 189, 190, 191, 192, 193, 194, 195, 196, 197, 198, 199, 200, 201, 202, 203], '880343413RR0001': [204, 205, 206, 207, 208, 209, 210, 211, 212, 213, 214, 215, 216, 217, 218, 219, 220, 221, 222], '880343918RR0001': [223, 224, 225, 226, 227, 228], '880360474RR0001': [229, 230, 231, 232, 233, 234, 235, 236, 237, 238, 239, 240, 241, 242], '880364815RR0001': [243, 244, 245, 246, 247, 248, 249, 250, 251, 252, 253, 254, 255], '880364963RR0001': [256, 257, 258, 259, 260, 261], '880373501RR0001': [262, 263, 264, 265, 266, 267], '880377965RR0001': [268, 269, 270, 271, 272, 273, 274, 275, 276, 277, 278], '880384003RR0001': [279, 280, 281, 282, 283, 284, 285, 286, 287, 288, 289, 290, 291, 292, 293, 294, 295, 296, 297, 298, 299], '880394911RR0001': [300, 301, 302, 303, 304, 305, 306, 307, 308], '880396601RR0001': [309, 310, 311, 312], '880400221RR0001': [313, 314, 315, 316, 317, 318, 319, 320], '880400627RR0001': [321, 322, 323, 324, 325, 326, 327], '880417910RR0001': [328, 329, 330], '880418702RR0001': [331, 332, 333, 334, 335, 336, 337, 338, 339, 340, 341, 342], '880419502RR0001': [343, 344, 345, 346, 347], '880422423RR0001': [348, 349, 350, 351, 352, 353, 354, 355, 356, 357, 358, 359, 360], '880422761RR0001': [361, 362, 363, 364, 365, 366, 367, 368, 369, 370, 371, 372, 373, 374, 375], '880423314RR0001': [376, 377, 378, 379, 380, 381, 382, 383, 384], '880430160RR0001': [385, 386, 387, 388, 389, 390, 391, 392], '880432216RR0001': [393, 394, 395, 396, 397, 398, 399, 400, 401, 402, 403, 404, 405], '880436621RR0001': [406, 407, 408, 409, 410, 411, 412, 413, 414, 415, 416, 417, 418, 419, 420, 421, 422, 423], '880436811RR0001': [424, 425, 426], '880437165RR0001': [427, 428, 429, 430, 431, 432, 433, 434], '880442801RR0001': [435, 436, 437, 438], '880443023RR0001': [439, 440, 441, 442, 443, 444, 445, 446, 447, 448, 449, 450], '880447016RR0001': [451, 452, 453, 454, 455, 456, 457, 458, 459, 460, 461, 462, 463, 464, 465, 466, 467, 468], '880457817RR0001': [469, 470, 471, 472, 473, 474], '880459011RR0001': [475, 476, 477, 478, 479, 480], '880460712RR0001': [481, 482, 483, 484, 485, 486, 487, 488, 489, 490, 491, 492, 493, 494, 495, 496, 497, 498, 499, 500, 501, 502, 503, 504], '880465315RR0001': [505, 506, 507, 508, 509, 510, 511, 512], '880465810RR0001': [513, 514, 515, 516, 517], '880468012RR0001': [518, 519, 520, 521, 522, 523], '880469218RR0001': [524, 525, 526, 527, 528, 529, 530, 531], '880478318RR0001': [532, 533, 534, 535, 536, 537, 538, 539, 540, 541], '880479001RR0001': [542, 543, 544, 545, 546, 547], '880480207RR0001': [548, 549, 550, 551, 552, 553], '880481601RR0001': [554, 555, 556, 557, 558, 559, 560, 561, 562, 563, 564, 565, 566, 567, 568, 569], '880483706RR0001': [570, 571, 572, 573, 574], '880495163RR0001': [575, 576, 577, 578, 579, 580, 581, 582, 583, 584, 585, 586, 587, 588, 589, 590, 591, 592, 593, 594, 595, 596, 597, 598, 599], '880507363RR0001': [600, 601, 602, 603, 604], '880514963RR0001': [605, 606, 607, 608, 609, 610, 611, 612, 613, 614, 615, 616, 617, 618], '880516232RR0001': [619, 620, 621, 622, 623, 624, 625, 626, 627, 628, 629, 630], '880544275RR0001': [631], '880574504RR0001': [632, 633, 634, 635, 636, 637, 638, 639, 640, 641, 642, 643, 644, 645, 646, 647, 648, 649, 650, 651, 652, 653, 654], '880578679RR0001': [655, 656, 657, 658, 659, 660, 661, 662, 663, 664, 665, 666, 667, 668, 669, 670, 671, 672, 673, 674], '880579479RR0001': [675, 676, 677, 678, 679, 680, 681, 682], '880579800RR0001': [683, 684, 685], '880579875RR0001': [686, 687, 688, 689, 690, 691, 692, 693, 694, 695, 696, 697, 698], '880584107RR0001': [699, 700, 701], '880585476RR0001': [702, 703, 704, 705, 706, 707, 708, 709, 710, 711, 712, 713, 714, 715, 716, 717, 718, 719, 720, 721, 722, 723, 724, 725, 726, 727, 728, 729, 730, 731, 732, 733], '880597679RR0001': [734, 735, 736, 737, 738, 739, 740, 741], '880611140RR0001': [742, 743, 744, 745, 746, 747, 748, 749], '880612270RR0001': [750, 751, 752, 753, 754, 755, 756, 757, 758, 759, 760, 761, 762, 763, 764, 765, 766, 767], '880617204RR0001': [768, 769, 770, 771, 772, 773, 774, 775, 776], '880623962RR0001': [777, 778, 779, 780, 781, 782, 783, 784, 785, 786], '880625223RR0001': [787, 788, 789], '880625827RR0001': [790, 791, 792], '880626957RR0001': [793, 794, 795, 796, 797, 798, 799, 800, 801, 802, 803, 804, 805, 806, 807, 808], '880636428RR0001': [809, 810, 811, 812, 813], '880637350RR0001': [814, 815, 816, 817, 818, 819, 820, 821, 822, 823, 824, 825], '880637624RR0001': [826, 827, 828, 829, 830, 831, 832, 833, 834, 835, 836, 837, 838, 839, 840], '880639349RR0001': [841, 842, 843, 844, 845, 846, 847, 848, 849, 850, 851, 852, 853, 854, 855, 856], '880640149RR0001': [857, 858, 859, 860], '880645429RR0001': [861, 862, 863, 864], '880647623RR0001': [865, 866, 867, 868, 869], '880648142RR0001': [870, 871, 872, 873, 874, 875, 876, 877, 878, 879, 880, 881, 882, 883, 884, 885, 886, 887, 888, 889, 890, 891, 892, 893, 894, 895, 896, 897, 898, 899, 900, 901], '880650148RR0001': [902, 903, 904, 905, 906, 907, 908, 909, 910], '880650502RR0001': [911, 912, 913, 914, 915, 916, 917, 918, 919, 920, 921, 922, 923, 924, 925, 926, 927, 928, 929, 930, 931], '880650908RR0001': [932, 933, 934, 935, 936, 937, 938, 939, 940, 941, 942, 943, 944, 945, 946, 947, 948], '880650965RR0001': [949, 950, 951, 952, 953, 954, 955, 956], '880653902RR0001': [957, 958, 959], '880655014RR0001': [960, 961, 962, 963, 964, 965, 966, 967, 968], '880657747RR0001': [969, 970, 971, 972, 973, 974, 975, 976, 977, 978, 979, 980, 981, 982, 983, 984, 985, 986, 987, 988, 989], '880664149RR0001': [990, 991, 992, 993, 994, 995, 996, 997, 998, 999], '880666011RR0001': [1000, 1001, 1002, 1003, 1004, 1005, 1006, 1007, 1008, 1009, 1010, 1011, 1012, 1013, 1014, 1015, 1016, 1017, 1018, 1019, 1020], '880666623RR0001': [1021, 1022, 1023, 1024, 1025, 1026, 1027, 1028, 1029], '880669957RR0001': [1030, 1031, 1032, 1033, 1034, 1035, 1036, 1037, 1038, 1039, 1040], '880672621RR0001': [1041, 1042, 1043, 1044, 1045, 1046, 1047, 1048], '880673140RR0001': [1049, 1050, 1051, 1052, 1053, 1054, 1055, 1056], '880677141RR0001': [1057, 1058, 1059, 1060, 1061, 1062], '880683511RR0001': [1063, 1064], '880697164RR0001': [1065, 1066, 1067, 1068, 1069, 1070, 1071, 1072, 1073, 1074, 1075, 1076], '880697552RR0001': [1077, 1078, 1079, 1080, 1081, 1082, 1083, 1084, 1085, 1086, 1087, 1088, 1089, 1090, 1091, 1092], ...}"
      ]
     },
     "execution_count": 128,
     "metadata": {},
     "output_type": "execute_result"
    }
   ],
   "source": [
    "grouped_test.groups"
   ]
  },
  {
   "cell_type": "code",
   "execution_count": null,
   "metadata": {},
   "outputs": [
    {
     "name": "stdout",
     "output_type": "stream",
     "text": [
      "Edward Chin!Edward Chin!880217419RR0001\n",
      "Susan Feldman!Edward Chin!880217419RR0001\n",
      "Lucile Barker!Edward Chin!880217419RR0001\n",
      "Jenny Lowell!Edward Chin!880217419RR0001\n",
      "Antonia Borg!Edward Chin!880217419RR0001\n",
      "Antonina Borg!Edward Chin!880217419RR0001\n",
      "Susan Feldman!Susan Feldman!880217419RR0001\n",
      "Lucile Barker!Susan Feldman!880217419RR0001\n",
      "Jenny Lowell!Susan Feldman!880217419RR0001\n",
      "Antonia Borg!Susan Feldman!880217419RR0001\n",
      "Antonina Borg!Susan Feldman!880217419RR0001\n",
      "Lucile Barker!Lucile Barker!880217419RR0001\n",
      "Jenny Lowell!Lucile Barker!880217419RR0001\n",
      "Antonia Borg!Lucile Barker!880217419RR0001\n",
      "Antonina Borg!Lucile Barker!880217419RR0001\n",
      "Jenny Lowell!Jenny Lowell!880217419RR0001\n",
      "Antonia Borg!Jenny Lowell!880217419RR0001\n",
      "Antonina Borg!Jenny Lowell!880217419RR0001\n",
      "Antonia Borg!Antonia Borg!880217419RR0001\n",
      "Antonina Borg!Antonia Borg!880217419RR0001\n",
      "Dawn-lee Ricard!Dawn-lee Ricard!880231956RR0001\n",
      "Cathryn Balk!Dawn-lee Ricard!880231956RR0001\n",
      "Lynda Macnay!Dawn-lee Ricard!880231956RR0001\n",
      "Dawn Lee Ricard!Dawn-lee Ricard!880231956RR0001\n",
      "Grace Elimanova!Dawn-lee Ricard!880231956RR0001\n",
      "Joanna Campbell!Dawn-lee Ricard!880231956RR0001\n",
      "Laura Robertson!Dawn-lee Ricard!880231956RR0001\n",
      "Linda Douma!Dawn-lee Ricard!880231956RR0001\n",
      "Linda Macnay!Dawn-lee Ricard!880231956RR0001\n",
      "Wayne Lebel!Dawn-lee Ricard!880231956RR0001\n",
      "William Whetstone!Dawn-lee Ricard!880231956RR0001\n",
      "Cathryn Balk!Cathryn Balk!880231956RR0001\n",
      "Lynda Macnay!Cathryn Balk!880231956RR0001\n",
      "Dawn Lee Ricard!Cathryn Balk!880231956RR0001\n",
      "Grace Elimanova!Cathryn Balk!880231956RR0001\n",
      "Joanna Campbell!Cathryn Balk!880231956RR0001\n",
      "Laura Robertson!Cathryn Balk!880231956RR0001\n",
      "Linda Douma!Cathryn Balk!880231956RR0001\n",
      "Linda Macnay!Cathryn Balk!880231956RR0001\n",
      "Wayne Lebel!Cathryn Balk!880231956RR0001\n",
      "William Whetstone!Cathryn Balk!880231956RR0001\n",
      "Lynda Macnay!Lynda Macnay!880231956RR0001\n",
      "Dawn Lee Ricard!Lynda Macnay!880231956RR0001\n",
      "Grace Elimanova!Lynda Macnay!880231956RR0001\n",
      "Joanna Campbell!Lynda Macnay!880231956RR0001\n",
      "Laura Robertson!Lynda Macnay!880231956RR0001\n",
      "Linda Douma!Lynda Macnay!880231956RR0001\n",
      "Linda Macnay!Lynda Macnay!880231956RR0001\n",
      "Wayne Lebel!Lynda Macnay!880231956RR0001\n",
      "William Whetstone!Lynda Macnay!880231956RR0001\n",
      "Dawn Lee Ricard!Dawn Lee Ricard!880231956RR0001\n",
      "Grace Elimanova!Dawn Lee Ricard!880231956RR0001\n",
      "Joanna Campbell!Dawn Lee Ricard!880231956RR0001\n",
      "Laura Robertson!Dawn Lee Ricard!880231956RR0001\n",
      "Linda Douma!Dawn Lee Ricard!880231956RR0001\n",
      "Linda Macnay!Dawn Lee Ricard!880231956RR0001\n",
      "Wayne Lebel!Dawn Lee Ricard!880231956RR0001\n",
      "William Whetstone!Dawn Lee Ricard!880231956RR0001\n"
     ]
    }
   ],
   "source": [
    "i=0\n",
    "k=0\n",
    "s=0\n",
    "\n",
    "for name, group in grouped_test:\n",
    "    i=i+1\n",
    "    k=0\n",
    "    s=len(group)\n",
    "    tempgroup=group\n",
    "    while s>1:\n",
    "        for index, row in tempgroup.iterrows():\n",
    "            if k==0:\n",
    "                tempFull=row['FullName']\n",
    "                tempStart=row['Appointed Date']\n",
    "                tempEnd=row['Ceased Date']\n",
    "                tempOrg=row['BN/Registration Number']\n",
    "                k=k+1\n",
    "            if k>0:\n",
    "                if not (row['Appointed Date']>tempEnd and row['Ceased Date']<tempStart):\n",
    "                    print(str(row['FullName'])+\"!\"+str(tempFull)+\"!\"+str(tempOrg))\n",
    "        tempgroup=tempgroup.drop(tempgroup.index[0])\n",
    "        k=0\n",
    "        s=s-1\n",
    "                    \n",
    "                "
   ]
  },
  {
   "cell_type": "code",
   "execution_count": null,
   "metadata": {},
   "outputs": [],
   "source": []
  }
 ],
 "metadata": {
  "kernelspec": {
   "display_name": "Python 3",
   "language": "python",
   "name": "python3"
  },
  "language_info": {
   "codemirror_mode": {
    "name": "ipython",
    "version": 3
   },
   "file_extension": ".py",
   "mimetype": "text/x-python",
   "name": "python",
   "nbconvert_exporter": "python",
   "pygments_lexer": "ipython3",
   "version": "3.8.6"
  }
 },
 "nbformat": 4,
 "nbformat_minor": 4
}
